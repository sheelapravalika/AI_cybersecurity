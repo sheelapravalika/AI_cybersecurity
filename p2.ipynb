{
  "nbformat": 4,
  "nbformat_minor": 0,
  "metadata": {
    "colab": {
      "provenance": []
    },
    "kernelspec": {
      "name": "python3",
      "display_name": "Python 3"
    },
    "language_info": {
      "name": "python"
    }
  },
  "cells": [
    {
      "cell_type": "code",
      "source": [
        "!pip install -U datasets huggingface_hub fsspec pandas scikit-learn matplotlib seaborn numpy"
      ],
      "metadata": {
        "id": "6xlQONpWhSG3"
      },
      "execution_count": null,
      "outputs": []
    }
  ]
}